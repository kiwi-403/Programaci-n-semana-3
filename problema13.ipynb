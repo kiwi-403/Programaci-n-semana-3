{
  "nbformat": 4,
  "nbformat_minor": 0,
  "metadata": {
    "colab": {
      "provenance": [],
      "authorship_tag": "ABX9TyOUOn1waTJb7L1vFj8f8D9t",
      "include_colab_link": true
    },
    "kernelspec": {
      "name": "python3",
      "display_name": "Python 3"
    },
    "language_info": {
      "name": "python"
    }
  },
  "cells": [
    {
      "cell_type": "markdown",
      "metadata": {
        "id": "view-in-github",
        "colab_type": "text"
      },
      "source": [
        "<a href=\"https://colab.research.google.com/github/kiwi-403/Programaci-n-semana-3/blob/main/problema13.ipynb\" target=\"_parent\"><img src=\"https://colab.research.google.com/assets/colab-badge.svg\" alt=\"Open In Colab\"/></a>"
      ]
    },
    {
      "cell_type": "code",
      "source": [
        "def chile(año):\n",
        "    if (año % 4 == 0 and año % 100 != 0) or (año % 400 == 0):\n",
        "        return True\n",
        "    else:\n",
        "        return False\n",
        "año = int(input(\"Ingrese el año:\"))\n",
        "if chile(año):\n",
        "    print(f\"{año} es un año bisiesto.\")\n",
        "else:\n",
        "    print(f\"{año} no es un año bisiesto.\")\n"
      ],
      "metadata": {
        "colab": {
          "base_uri": "https://localhost:8080/"
        },
        "id": "RwNcZH0h_efB",
        "outputId": "1ea148e0-5f4d-47bd-8ff2-c1e1746cd783"
      },
      "execution_count": 4,
      "outputs": [
        {
          "output_type": "stream",
          "name": "stdout",
          "text": [
            "Ingrese el año:2025\n",
            "2025 no es un año bisiesto.\n"
          ]
        }
      ]
    }
  ]
}