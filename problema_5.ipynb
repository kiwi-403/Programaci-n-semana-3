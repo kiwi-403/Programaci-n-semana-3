{
  "nbformat": 4,
  "nbformat_minor": 0,
  "metadata": {
    "colab": {
      "provenance": [],
      "authorship_tag": "ABX9TyNoP7kJTsYqn25fIuINtZjN",
      "include_colab_link": true
    },
    "kernelspec": {
      "name": "python3",
      "display_name": "Python 3"
    },
    "language_info": {
      "name": "python"
    }
  },
  "cells": [
    {
      "cell_type": "markdown",
      "metadata": {
        "id": "view-in-github",
        "colab_type": "text"
      },
      "source": [
        "<a href=\"https://colab.research.google.com/github/kiwi-403/Programaci-n-semana-3/blob/main/problema_5.ipynb\" target=\"_parent\"><img src=\"https://colab.research.google.com/assets/colab-badge.svg\" alt=\"Open In Colab\"/></a>"
      ]
    },
    {
      "cell_type": "code",
      "source": [
        "def numero(nota):\n",
        "  if len(nota)==0:\n",
        "    return 0\n",
        "  total=sum(nota)\n",
        "  promedio=total/len(nota)\n",
        "  return promedio\n",
        "nota=[85,85,100]\n",
        "print(f\"Tu promedio es de {promedio}\")"
      ],
      "metadata": {
        "colab": {
          "base_uri": "https://localhost:8080/"
        },
        "id": "VxSPh-NTKkn4",
        "outputId": "e3aa05d7-76ea-4127-e971-a3436d501dda"
      },
      "execution_count": 6,
      "outputs": [
        {
          "output_type": "stream",
          "name": "stdout",
          "text": [
            "Tu promedio es de 93.66666666666667\n"
          ]
        }
      ]
    }
  ]
}