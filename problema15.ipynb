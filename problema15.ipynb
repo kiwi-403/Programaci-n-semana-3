{
  "nbformat": 4,
  "nbformat_minor": 0,
  "metadata": {
    "colab": {
      "provenance": [],
      "authorship_tag": "ABX9TyOL9iUlCQuu7uiv94TmQYIM",
      "include_colab_link": true
    },
    "kernelspec": {
      "name": "python3",
      "display_name": "Python 3"
    },
    "language_info": {
      "name": "python"
    }
  },
  "cells": [
    {
      "cell_type": "markdown",
      "metadata": {
        "id": "view-in-github",
        "colab_type": "text"
      },
      "source": [
        "<a href=\"https://colab.research.google.com/github/kiwi-403/Programaci-n-semana-3/blob/main/problema15.ipynb\" target=\"_parent\"><img src=\"https://colab.research.google.com/assets/colab-badge.svg\" alt=\"Open In Colab\"/></a>"
      ]
    },
    {
      "cell_type": "code",
      "source": [
        "import random\n",
        "\n",
        "def juego_adivinanza():\n",
        "    panda = random.randint(1, 100)\n",
        "\n",
        "    print(\"¡Bienvenido al juego de adivinanza!\")\n",
        "    print(\"Estoy pensando en un número entre 1 y 100.\")\n",
        "\n",
        "    while True:\n",
        "        try:\n",
        "            pool = int(input(\"Adivina el número: \"))\n",
        "\n",
        "            if pool < panda:\n",
        "                print(\"El número es mayor. ¡Sigue intentando!\")\n",
        "            elif pool > panda:\n",
        "                print(\"El número es menor. ¡Sigue intentando!\")\n",
        "            else:\n",
        "                print(\"¡Felicidades! Adivinaste el número.\")\n",
        "                break\n",
        "        except ValueError:\n",
        "            print(\"Por favor, ingresa un número válido.\")\n",
        "\n",
        "juego_adivinanza()\n"
      ],
      "metadata": {
        "colab": {
          "base_uri": "https://localhost:8080/"
        },
        "id": "bPKa3LfEAsrR",
        "outputId": "3a698609-28e3-4573-ec26-0acb2b5efa71"
      },
      "execution_count": 1,
      "outputs": [
        {
          "output_type": "stream",
          "name": "stdout",
          "text": [
            "¡Bienvenido al juego de adivinanza!\n",
            "Estoy pensando en un número entre 1 y 100.\n",
            "Adivina el número: 20\n",
            "El número es mayor. ¡Sigue intentando!\n",
            "Adivina el número: 67\n",
            "El número es mayor. ¡Sigue intentando!\n",
            "Adivina el número: 90\n",
            "El número es menor. ¡Sigue intentando!\n",
            "Adivina el número: 85\n",
            "El número es menor. ¡Sigue intentando!\n",
            "Adivina el número: 79\n",
            "El número es menor. ¡Sigue intentando!\n",
            "Adivina el número: 69\n",
            "El número es mayor. ¡Sigue intentando!\n",
            "Adivina el número: 71\n",
            "El número es mayor. ¡Sigue intentando!\n",
            "Adivina el número: 74\n",
            "El número es mayor. ¡Sigue intentando!\n",
            "Adivina el número: 78\n",
            "El número es menor. ¡Sigue intentando!\n",
            "Adivina el número: 77\n",
            "El número es menor. ¡Sigue intentando!\n",
            "Adivina el número: 76\n",
            "El número es menor. ¡Sigue intentando!\n",
            "Adivina el número: 75\n",
            "¡Felicidades! Adivinaste el número.\n"
          ]
        }
      ]
    }
  ]
}