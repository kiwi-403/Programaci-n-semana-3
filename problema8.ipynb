{
  "nbformat": 4,
  "nbformat_minor": 0,
  "metadata": {
    "colab": {
      "provenance": [],
      "authorship_tag": "ABX9TyOeE+uHzy6jLwNDsbrmAbqS",
      "include_colab_link": true
    },
    "kernelspec": {
      "name": "python3",
      "display_name": "Python 3"
    },
    "language_info": {
      "name": "python"
    }
  },
  "cells": [
    {
      "cell_type": "markdown",
      "metadata": {
        "id": "view-in-github",
        "colab_type": "text"
      },
      "source": [
        "<a href=\"https://colab.research.google.com/github/kiwi-403/Programaci-n-semana-3/blob/main/problema8.ipynb\" target=\"_parent\"><img src=\"https://colab.research.google.com/assets/colab-badge.svg\" alt=\"Open In Colab\"/></a>"
      ]
    },
    {
      "cell_type": "code",
      "execution_count": 21,
      "metadata": {
        "colab": {
          "base_uri": "https://localhost:8080/"
        },
        "id": "_Z_PGxg8bmdV",
        "outputId": "c08a561d-84b0-4274-fdd2-ccb127aebd69"
      },
      "outputs": [
        {
          "output_type": "stream",
          "name": "stdout",
          "text": [
            "Ingrese un texto:Hola mundo\n",
            "No es un plaindromo\n"
          ]
        }
      ],
      "source": [
        "def num(cadena):\n",
        "  cadena=cadena.replace(\" \", \"\").lower()\n",
        "  return cadena==cadena[::-1]\n",
        "\n",
        "texto=str(input(\"Ingrese un texto:\"))\n",
        "if num(texto):\n",
        "  print(\"Es un palindromo\")\n",
        "else:\n",
        "  print(\"No es un plaindromo\")"
      ]
    }
  ]
}