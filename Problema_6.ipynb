{
  "nbformat": 4,
  "nbformat_minor": 0,
  "metadata": {
    "colab": {
      "provenance": [],
      "authorship_tag": "ABX9TyPOKalG/reOuLCegQq3fJbH",
      "include_colab_link": true
    },
    "kernelspec": {
      "name": "python3",
      "display_name": "Python 3"
    },
    "language_info": {
      "name": "python"
    }
  },
  "cells": [
    {
      "cell_type": "markdown",
      "metadata": {
        "id": "view-in-github",
        "colab_type": "text"
      },
      "source": [
        "<a href=\"https://colab.research.google.com/github/kiwi-403/Programaci-n-semana-3/blob/main/Problema_6.ipynb\" target=\"_parent\"><img src=\"https://colab.research.google.com/assets/colab-badge.svg\" alt=\"Open In Colab\"/></a>"
      ]
    },
    {
      "cell_type": "code",
      "source": [
        "def invertir_cadena(cadena):\n",
        "    cadena_invertida = \"\"\n",
        "    for char in cadena:\n",
        "        cadena_invertida = char + cadena_invertida\n",
        "    return cadena_invertida\n",
        "cadena=str(input(\"Introduce un texto:\"))\n",
        "print(invertir_cadena(cadena))"
      ],
      "metadata": {
        "colab": {
          "base_uri": "https://localhost:8080/"
        },
        "id": "-1OrIMWrPxez",
        "outputId": "9b127a38-3026-4a82-bd83-751faf3fa017"
      },
      "execution_count": 18,
      "outputs": [
        {
          "output_type": "stream",
          "name": "stdout",
          "text": [
            "Introduce un texto:Luman\n",
            "namuL\n"
          ]
        }
      ]
    }
  ]
}