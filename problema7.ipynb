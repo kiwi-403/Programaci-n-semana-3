{
  "nbformat": 4,
  "nbformat_minor": 0,
  "metadata": {
    "colab": {
      "provenance": [],
      "authorship_tag": "ABX9TyNUfg9z6LCIUHpVa/Bq5xm/",
      "include_colab_link": true
    },
    "kernelspec": {
      "name": "python3",
      "display_name": "Python 3"
    },
    "language_info": {
      "name": "python"
    }
  },
  "cells": [
    {
      "cell_type": "markdown",
      "metadata": {
        "id": "view-in-github",
        "colab_type": "text"
      },
      "source": [
        "<a href=\"https://colab.research.google.com/github/kiwi-403/Programaci-n-semana-3/blob/main/problema7.ipynb\" target=\"_parent\"><img src=\"https://colab.research.google.com/assets/colab-badge.svg\" alt=\"Open In Colab\"/></a>"
      ]
    },
    {
      "cell_type": "code",
      "execution_count": 2,
      "metadata": {
        "colab": {
          "base_uri": "https://localhost:8080/"
        },
        "id": "_EKMYnCYUliJ",
        "outputId": "4acde0ca-859b-41c0-90ce-7b286fd56563"
      },
      "outputs": [
        {
          "output_type": "stream",
          "name": "stdout",
          "text": [
            "4\n"
          ]
        }
      ],
      "source": [
        "def pan(lista):\n",
        "  lista.sort()\n",
        "  panda=len(lista)\n",
        "  if panda%2!=0:\n",
        "    mediana=lista[panda//2]\n",
        "  else:\n",
        "    mediana=(lista[panda//2-1]+lista[panda//2])/2\n",
        "  return mediana\n",
        "\n",
        "lista=[3,1,4,1,5,9,2,6,5,3,5]\n",
        "print(pan(lista))"
      ]
    }
  ]
}