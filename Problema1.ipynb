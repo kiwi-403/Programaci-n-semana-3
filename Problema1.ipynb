{
  "nbformat": 4,
  "nbformat_minor": 0,
  "metadata": {
    "colab": {
      "provenance": [],
      "authorship_tag": "ABX9TyNZSqx4Z/yF7C8glKq2SKxe",
      "include_colab_link": true
    },
    "kernelspec": {
      "name": "python3",
      "display_name": "Python 3"
    },
    "language_info": {
      "name": "python"
    }
  },
  "cells": [
    {
      "cell_type": "markdown",
      "metadata": {
        "id": "view-in-github",
        "colab_type": "text"
      },
      "source": [
        "<a href=\"https://colab.research.google.com/github/kiwi-403/Programaci-n-semana-3/blob/main/Problema1.ipynb\" target=\"_parent\"><img src=\"https://colab.research.google.com/assets/colab-badge.svg\" alt=\"Open In Colab\"/></a>"
      ]
    },
    {
      "cell_type": "code",
      "execution_count": 6,
      "metadata": {
        "colab": {
          "base_uri": "https://localhost:8080/"
        },
        "id": "FjgX9Z4tvPX5",
        "outputId": "1c823e08-b73d-4e24-8c1d-f46bc0825d4f"
      },
      "outputs": [
        {
          "output_type": "stream",
          "name": "stdout",
          "text": [
            " Hola Karen Janeth tu tienes 19\n"
          ]
        }
      ],
      "source": [
        "#Uso def para definir variable\n",
        "def mano(nombre,edad=18):\n",
        "  print(f\" Hola {nombre} tu tienes {edad}\")\n",
        "#Pongo lo que quiero en la variable para que edad=18 sea el relleno\n",
        "mano(\"Karen Janeth\",19)"
      ]
    }
  ]
}