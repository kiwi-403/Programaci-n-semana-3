{
  "nbformat": 4,
  "nbformat_minor": 0,
  "metadata": {
    "colab": {
      "provenance": [],
      "authorship_tag": "ABX9TyPah514YGpu2/iErqoWlIDF",
      "include_colab_link": true
    },
    "kernelspec": {
      "name": "python3",
      "display_name": "Python 3"
    },
    "language_info": {
      "name": "python"
    }
  },
  "cells": [
    {
      "cell_type": "markdown",
      "metadata": {
        "id": "view-in-github",
        "colab_type": "text"
      },
      "source": [
        "<a href=\"https://colab.research.google.com/github/kiwi-403/Programaci-n-semana-3/blob/main/problema9.ipynb\" target=\"_parent\"><img src=\"https://colab.research.google.com/assets/colab-badge.svg\" alt=\"Open In Colab\"/></a>"
      ]
    },
    {
      "cell_type": "code",
      "execution_count": 10,
      "metadata": {
        "colab": {
          "base_uri": "https://localhost:8080/"
        },
        "id": "X8FwR_wPkCgr",
        "outputId": "e97189ff-fc50-448f-9f41-2dca03b97c59"
      },
      "outputs": [
        {
          "output_type": "stream",
          "name": "stdout",
          "text": [
            "8\n"
          ]
        }
      ],
      "source": [
        "def num_1(lista):\n",
        "  if len(lista)<2:\n",
        "    return None\n",
        "\n",
        "  panda=list(set(lista))\n",
        "  panda.sort(reverse=True)\n",
        "\n",
        "  if len(panda)<2:\n",
        "    return None\n",
        "\n",
        "  return panda[1]\n",
        "\n",
        "lista=[3,5,7,9,5,8,7]\n",
        "print(num_1(lista))\n"
      ]
    }
  ]
}